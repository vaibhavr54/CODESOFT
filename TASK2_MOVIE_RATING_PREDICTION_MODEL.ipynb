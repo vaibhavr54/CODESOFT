{
 "cells": [
  {
   "cell_type": "markdown",
   "id": "e74b2515-6d96-49fd-a205-8434358fd9a7",
   "metadata": {},
   "source": [
    "### **_CODSOFT INTERNSHIP_**\n",
    "\n",
    "Task 2: Movie Rating Prediction Model\n",
    "\n",
    "Author: Vaibhav Rakshe\n",
    "\n",
    "Aim: To create a machine learning model in order to analyze movie data and develop a model that accurately estimates the rating given to a movie by users or critics.."
   ]
  },
  {
   "cell_type": "markdown",
   "id": "35c0f769-b579-42de-8f61-8744f7f6fd82",
   "metadata": {},
   "source": [
    "#### **_PROJECT INTRODUCTION_**"
   ]
  },
  {
   "cell_type": "markdown",
   "id": "76d75126-8290-44df-9cbf-ae55034255df",
   "metadata": {},
   "source": [
    "This set is pulled from IMDb.com of all the Indian movies on the platform. It consists of columns like Genre, voting, release year, actor names, director, ratings and others. I Clean this data by removing missing values or adding average values. This process helped me to manipulate the data to help with my EDA."
   ]
  },
  {
   "cell_type": "markdown",
   "id": "9523066e-b81c-4d87-a3d4-b2e817ec3e0e",
   "metadata": {},
   "source": [
    "The objective of this project is to create a machine learning model that accurately estimates movie ratings given by users or critics. By analyzing various features such as genre, cast, director, budget, and release date, we aim to uncover patterns and relationships within the data. This project involves data preprocessing, exploratory data analysis, and model training and evaluation. The ultimate goal is to develop a robust predictive model that can provide reliable rating predictions and insights into the factors influencing movie ratings."
   ]
  },
  {
   "cell_type": "markdown",
   "id": "0267158d-f748-4566-9578-ba67bfbc356b",
   "metadata": {},
   "source": [
    "## **_GETTING STARTED!!_**"
   ]
  },
  {
   "cell_type": "markdown",
   "id": "376bed7d-9a0c-46a3-93bf-17431ef79f40",
   "metadata": {},
   "source": [
    "### **_Exploratory Data Analysis_**"
   ]
  },
  {
   "cell_type": "markdown",
   "id": "bec810d9-f456-48d4-b1ad-89c788f076b5",
   "metadata": {},
   "source": [
    "#### *Import Required Libraries*"
   ]
  },
  {
   "cell_type": "code",
   "execution_count": 1,
   "id": "1b280d0f-1a4a-4785-9b01-3f09ffe342ba",
   "metadata": {},
   "outputs": [],
   "source": [
    "import numpy as np\n",
    "import pandas as pd\n",
    "import matplotlib.pyplot as plt"
   ]
  },
  {
   "cell_type": "markdown",
   "id": "42af85c3-ade1-454f-8595-73ec358d9874",
   "metadata": {},
   "source": [
    "#### *IMPORTING DATASET*"
   ]
  },
  {
   "cell_type": "code",
   "execution_count": 2,
   "id": "63a16b13-6885-4604-8a85-f98f6fde09c8",
   "metadata": {},
   "outputs": [],
   "source": [
    "# Importing dataset to work upon\n",
    "dataset = pd.read_csv(\"IMDb_Rating_Dataset.csv\", encoding='ISO-8859-1')"
   ]
  },
  {
   "cell_type": "code",
   "execution_count": 3,
   "id": "b4205e1b-69da-447a-a985-2734fba028a7",
   "metadata": {},
   "outputs": [
    {
     "data": {
      "text/plain": [
       "(15509, 10)"
      ]
     },
     "execution_count": 3,
     "metadata": {},
     "output_type": "execute_result"
    }
   ],
   "source": [
    "# Checking dimentions\n",
    "dataset.shape"
   ]
  },
  {
   "cell_type": "markdown",
   "id": "7ad28a11-699d-454f-a86d-8176c06f5fe8",
   "metadata": {},
   "source": [
    "#### *DATA CLEANING AND DATA HANDLING*"
   ]
  },
  {
   "cell_type": "code",
   "execution_count": 4,
   "id": "e17a1112-9e4b-4e1c-9602-2547c9c71753",
   "metadata": {},
   "outputs": [
    {
     "data": {
      "text/html": [
       "<div>\n",
       "<style scoped>\n",
       "    .dataframe tbody tr th:only-of-type {\n",
       "        vertical-align: middle;\n",
       "    }\n",
       "\n",
       "    .dataframe tbody tr th {\n",
       "        vertical-align: top;\n",
       "    }\n",
       "\n",
       "    .dataframe thead th {\n",
       "        text-align: right;\n",
       "    }\n",
       "</style>\n",
       "<table border=\"1\" class=\"dataframe\">\n",
       "  <thead>\n",
       "    <tr style=\"text-align: right;\">\n",
       "      <th></th>\n",
       "      <th>Name</th>\n",
       "      <th>Year</th>\n",
       "      <th>Duration</th>\n",
       "      <th>Genre</th>\n",
       "      <th>Rating</th>\n",
       "      <th>Votes</th>\n",
       "      <th>Director</th>\n",
       "      <th>Actor 1</th>\n",
       "      <th>Actor 2</th>\n",
       "      <th>Actor 3</th>\n",
       "    </tr>\n",
       "  </thead>\n",
       "  <tbody>\n",
       "    <tr>\n",
       "      <th>0</th>\n",
       "      <td></td>\n",
       "      <td>NaN</td>\n",
       "      <td>NaN</td>\n",
       "      <td>Drama</td>\n",
       "      <td>NaN</td>\n",
       "      <td>NaN</td>\n",
       "      <td>J.S. Randhawa</td>\n",
       "      <td>Manmauji</td>\n",
       "      <td>Birbal</td>\n",
       "      <td>Rajendra Bhatia</td>\n",
       "    </tr>\n",
       "    <tr>\n",
       "      <th>1</th>\n",
       "      <td>#Gadhvi (He thought he was Gandhi)</td>\n",
       "      <td>(2019)</td>\n",
       "      <td>109 min</td>\n",
       "      <td>Drama</td>\n",
       "      <td>7.0</td>\n",
       "      <td>8</td>\n",
       "      <td>Gaurav Bakshi</td>\n",
       "      <td>Rasika Dugal</td>\n",
       "      <td>Vivek Ghamande</td>\n",
       "      <td>Arvind Jangid</td>\n",
       "    </tr>\n",
       "    <tr>\n",
       "      <th>2</th>\n",
       "      <td>#Homecoming</td>\n",
       "      <td>(2021)</td>\n",
       "      <td>90 min</td>\n",
       "      <td>Drama, Musical</td>\n",
       "      <td>NaN</td>\n",
       "      <td>NaN</td>\n",
       "      <td>Soumyajit Majumdar</td>\n",
       "      <td>Sayani Gupta</td>\n",
       "      <td>Plabita Borthakur</td>\n",
       "      <td>Roy Angana</td>\n",
       "    </tr>\n",
       "    <tr>\n",
       "      <th>3</th>\n",
       "      <td>#Yaaram</td>\n",
       "      <td>(2019)</td>\n",
       "      <td>110 min</td>\n",
       "      <td>Comedy, Romance</td>\n",
       "      <td>4.4</td>\n",
       "      <td>35</td>\n",
       "      <td>Ovais Khan</td>\n",
       "      <td>Prateik</td>\n",
       "      <td>Ishita Raj</td>\n",
       "      <td>Siddhant Kapoor</td>\n",
       "    </tr>\n",
       "    <tr>\n",
       "      <th>4</th>\n",
       "      <td>...And Once Again</td>\n",
       "      <td>(2010)</td>\n",
       "      <td>105 min</td>\n",
       "      <td>Drama</td>\n",
       "      <td>NaN</td>\n",
       "      <td>NaN</td>\n",
       "      <td>Amol Palekar</td>\n",
       "      <td>Rajat Kapoor</td>\n",
       "      <td>Rituparna Sengupta</td>\n",
       "      <td>Antara Mali</td>\n",
       "    </tr>\n",
       "  </tbody>\n",
       "</table>\n",
       "</div>"
      ],
      "text/plain": [
       "                                 Name    Year Duration            Genre  \\\n",
       "0                                         NaN      NaN            Drama   \n",
       "1  #Gadhvi (He thought he was Gandhi)  (2019)  109 min            Drama   \n",
       "2                         #Homecoming  (2021)   90 min   Drama, Musical   \n",
       "3                             #Yaaram  (2019)  110 min  Comedy, Romance   \n",
       "4                   ...And Once Again  (2010)  105 min            Drama   \n",
       "\n",
       "   Rating Votes            Director       Actor 1             Actor 2  \\\n",
       "0     NaN   NaN       J.S. Randhawa      Manmauji              Birbal   \n",
       "1     7.0     8       Gaurav Bakshi  Rasika Dugal      Vivek Ghamande   \n",
       "2     NaN   NaN  Soumyajit Majumdar  Sayani Gupta   Plabita Borthakur   \n",
       "3     4.4    35          Ovais Khan       Prateik          Ishita Raj   \n",
       "4     NaN   NaN        Amol Palekar  Rajat Kapoor  Rituparna Sengupta   \n",
       "\n",
       "           Actor 3  \n",
       "0  Rajendra Bhatia  \n",
       "1    Arvind Jangid  \n",
       "2       Roy Angana  \n",
       "3  Siddhant Kapoor  \n",
       "4      Antara Mali  "
      ]
     },
     "execution_count": 4,
     "metadata": {},
     "output_type": "execute_result"
    }
   ],
   "source": [
    "# Display top five records\n",
    "dataset.head()"
   ]
  },
  {
   "cell_type": "code",
   "execution_count": 5,
   "id": "42125baa-727b-4878-b1d9-61659f49d9cd",
   "metadata": {},
   "outputs": [
    {
     "name": "stdout",
     "output_type": "stream",
     "text": [
      "<class 'pandas.core.frame.DataFrame'>\n",
      "RangeIndex: 15509 entries, 0 to 15508\n",
      "Data columns (total 10 columns):\n",
      " #   Column    Non-Null Count  Dtype  \n",
      "---  ------    --------------  -----  \n",
      " 0   Name      15509 non-null  object \n",
      " 1   Year      14981 non-null  object \n",
      " 2   Duration  7240 non-null   object \n",
      " 3   Genre     13632 non-null  object \n",
      " 4   Rating    7919 non-null   float64\n",
      " 5   Votes     7920 non-null   object \n",
      " 6   Director  14984 non-null  object \n",
      " 7   Actor 1   13892 non-null  object \n",
      " 8   Actor 2   13125 non-null  object \n",
      " 9   Actor 3   12365 non-null  object \n",
      "dtypes: float64(1), object(9)\n",
      "memory usage: 1.2+ MB\n"
     ]
    }
   ],
   "source": [
    "# Extracting information from data\n",
    "dataset.info()"
   ]
  },
  {
   "cell_type": "code",
   "execution_count": 6,
   "id": "8c13969f-c01e-4b5b-91c2-34aeadb35543",
   "metadata": {},
   "outputs": [
    {
     "data": {
      "text/plain": [
       "Name           0\n",
       "Year         528\n",
       "Duration    8269\n",
       "Genre       1877\n",
       "Rating      7590\n",
       "Votes       7589\n",
       "Director     525\n",
       "Actor 1     1617\n",
       "Actor 2     2384\n",
       "Actor 3     3144\n",
       "dtype: int64"
      ]
     },
     "execution_count": 6,
     "metadata": {},
     "output_type": "execute_result"
    }
   ],
   "source": [
    "# Checking null value count\n",
    "dataset.isnull().sum()"
   ]
  },
  {
   "cell_type": "code",
   "execution_count": 7,
   "id": "12acd711-47d4-4593-88b5-9b284304e189",
   "metadata": {},
   "outputs": [],
   "source": [
    "# Drop null value records\n",
    "dataset = dataset.dropna()"
   ]
  },
  {
   "cell_type": "code",
   "execution_count": 8,
   "id": "682b4235-794a-4185-b51d-587f8f7ac7e5",
   "metadata": {},
   "outputs": [
    {
     "data": {
      "text/plain": [
       "Name        0\n",
       "Year        0\n",
       "Duration    0\n",
       "Genre       0\n",
       "Rating      0\n",
       "Votes       0\n",
       "Director    0\n",
       "Actor 1     0\n",
       "Actor 2     0\n",
       "Actor 3     0\n",
       "dtype: int64"
      ]
     },
     "execution_count": 8,
     "metadata": {},
     "output_type": "execute_result"
    }
   ],
   "source": [
    "# reconfirm null count\n",
    "dataset.isnull().sum()"
   ]
  },
  {
   "cell_type": "code",
   "execution_count": 9,
   "id": "f6dc08df-5afc-4996-8f6b-b728b3a7f76e",
   "metadata": {},
   "outputs": [
    {
     "data": {
      "text/plain": [
       "(5659, 10)"
      ]
     },
     "execution_count": 9,
     "metadata": {},
     "output_type": "execute_result"
    }
   ],
   "source": [
    "# Dimentions after data cleaning\n",
    "dataset.shape"
   ]
  },
  {
   "cell_type": "code",
   "execution_count": 10,
   "id": "3f8812e6-a387-4aa0-83aa-260f51c581d5",
   "metadata": {},
   "outputs": [
    {
     "data": {
      "text/plain": [
       "0"
      ]
     },
     "execution_count": 10,
     "metadata": {},
     "output_type": "execute_result"
    }
   ],
   "source": [
    "# Checking Duplicates\n",
    "dataset.duplicated().sum()"
   ]
  },
  {
   "cell_type": "code",
   "execution_count": 11,
   "id": "a67338ec-412b-46f2-8ce1-fcc710e245a3",
   "metadata": {},
   "outputs": [],
   "source": [
    "dataset[\"Rating\"] = dataset.pop(\"Rating\")"
   ]
  },
  {
   "cell_type": "code",
   "execution_count": 12,
   "id": "017c23ec-5ae1-44c3-8708-b02a6985cc86",
   "metadata": {},
   "outputs": [],
   "source": [
    "dataset = dataset.drop([\"Name\"], axis=1)"
   ]
  },
  {
   "cell_type": "markdown",
   "id": "799647cb-3aa5-40bf-9d97-6c743f29d638",
   "metadata": {},
   "source": [
    "#### *PREPARING THE VALUES TO FLOAT*"
   ]
  },
  {
   "cell_type": "code",
   "execution_count": 13,
   "id": "6d24c55f-73fe-47c0-982b-d5ce9c4ca262",
   "metadata": {},
   "outputs": [
    {
     "name": "stderr",
     "output_type": "stream",
     "text": [
      "<>:1: SyntaxWarning: invalid escape sequence '\\d'\n",
      "<>:2: SyntaxWarning: invalid escape sequence '\\d'\n",
      "<>:1: SyntaxWarning: invalid escape sequence '\\d'\n",
      "<>:2: SyntaxWarning: invalid escape sequence '\\d'\n",
      "C:\\Users\\vaibh\\AppData\\Local\\Temp\\ipykernel_22672\\474062881.py:1: SyntaxWarning: invalid escape sequence '\\d'\n",
      "  dataset[\"Duration\"] = dataset[\"Duration\"].astype(str).str.extract('(\\d+)').astype(float)\n",
      "C:\\Users\\vaibh\\AppData\\Local\\Temp\\ipykernel_22672\\474062881.py:2: SyntaxWarning: invalid escape sequence '\\d'\n",
      "  dataset['Year'] = dataset['Year'].str.extract('(\\d+)').astype(float)\n"
     ]
    }
   ],
   "source": [
    "dataset[\"Duration\"] = dataset[\"Duration\"].astype(str).str.extract('(\\d+)').astype(float)\n",
    "dataset['Year'] = dataset['Year'].str.extract('(\\d+)').astype(float)\n",
    "dataset['Votes'] = dataset['Votes'].str.replace(',', '').astype(float)"
   ]
  },
  {
   "cell_type": "markdown",
   "id": "71e462ea-3f0d-4447-acfa-8f66c3cea513",
   "metadata": {},
   "source": [
    "#### *SPLITTING THE DATASET INTO FEATURES AND TARGET COLUMN*"
   ]
  },
  {
   "cell_type": "code",
   "execution_count": 14,
   "id": "c41d2457-e5e0-479e-b9cc-828418efe061",
   "metadata": {},
   "outputs": [],
   "source": [
    "x = dataset.iloc[:, :-1]\n",
    "y = dataset.iloc[:, -1].values"
   ]
  },
  {
   "cell_type": "code",
   "execution_count": 15,
   "id": "be353823-5234-4705-8e4a-dbaa3802fcde",
   "metadata": {},
   "outputs": [
    {
     "data": {
      "text/plain": [
       "(5659, 8)"
      ]
     },
     "execution_count": 15,
     "metadata": {},
     "output_type": "execute_result"
    }
   ],
   "source": [
    "x.shape"
   ]
  },
  {
   "cell_type": "code",
   "execution_count": 16,
   "id": "02dcceec-1201-4647-8bad-e844d14bf145",
   "metadata": {},
   "outputs": [
    {
     "data": {
      "text/plain": [
       "(5659,)"
      ]
     },
     "execution_count": 16,
     "metadata": {},
     "output_type": "execute_result"
    }
   ],
   "source": [
    "y.shape"
   ]
  },
  {
   "cell_type": "markdown",
   "id": "3b3368de-7f8d-49e3-8da8-cce72fc5653e",
   "metadata": {},
   "source": [
    "#### *TRANSFORMING CATEGORICAL VALUES INTO NUMERICAL VALUES*"
   ]
  },
  {
   "cell_type": "code",
   "execution_count": 17,
   "id": "f1a02fab-6fb8-483c-a5c7-a3ee9c6467dd",
   "metadata": {},
   "outputs": [],
   "source": [
    "from sklearn.compose import ColumnTransformer\n",
    "from sklearn.preprocessing import OneHotEncoder\n",
    "\n",
    "ct = ColumnTransformer(transformers=[('Genre_encoder', OneHotEncoder(sparse_output=False), [2]),\n",
    "('director encoder', OneHotEncoder(sparse_output=False), [4]),\n",
    "('Actor1_encoder', OneHotEncoder(sparse_output=False), [5]),\n",
    "  ('Actor_2 encoder', OneHotEncoder(sparse_output= False), [6]),\n",
    "  ('Actor_3 encoder', OneHotEncoder(sparse_output= False), [7])],\n",
    "    remainder='passthrough')\n",
    "\n",
    "x = np.array(ct.fit_transform(x))"
   ]
  },
  {
   "cell_type": "code",
   "execution_count": 18,
   "id": "cc17a0e6-a303-45bf-bd05-0a8ee62a3b69",
   "metadata": {},
   "outputs": [
    {
     "name": "stdout",
     "output_type": "stream",
     "text": [
      "[[   0.    0.    0. ... 2019.  109.    8.]\n",
      " [   0.    0.    0. ... 2019.  110.   35.]\n",
      " [   0.    0.    0. ... 1997.  147.  827.]\n",
      " ...\n",
      " [   0.    0.    0. ... 1989.  125.   44.]\n",
      " [   0.    0.    0. ... 1999.  129.  655.]\n",
      " [   0.    0.    0. ... 1998.  130.   20.]]\n"
     ]
    }
   ],
   "source": [
    "print(x)"
   ]
  },
  {
   "cell_type": "code",
   "execution_count": 19,
   "id": "8e3540d8-01ec-4c81-9c1d-0f3546a0d80f",
   "metadata": {},
   "outputs": [
    {
     "data": {
      "text/plain": [
       "(5659, 9647)"
      ]
     },
     "execution_count": 19,
     "metadata": {},
     "output_type": "execute_result"
    }
   ],
   "source": [
    "x.shape"
   ]
  },
  {
   "cell_type": "markdown",
   "id": "388c7a72-ece8-4f1f-a6d7-a025ebcb4adb",
   "metadata": {},
   "source": [
    "#### *SPLITTING THE DATASET INTO TRAINING SET AND TEST SET*"
   ]
  },
  {
   "cell_type": "code",
   "execution_count": 20,
   "id": "4740ef76-b681-4aae-a416-c81b7b4e8f29",
   "metadata": {},
   "outputs": [],
   "source": [
    "from sklearn.model_selection import train_test_split\n",
    "x_train, x_test, y_train, y_test = train_test_split(x, y, test_size = 0.01, random_state = 0)"
   ]
  },
  {
   "cell_type": "markdown",
   "id": "d6433985-9630-45d5-ad9c-d6ba510be800",
   "metadata": {},
   "source": [
    "#### *FEATURE SCALING OF INDEPENDENT VARIABLES*"
   ]
  },
  {
   "cell_type": "code",
   "execution_count": 21,
   "id": "fe278ab3-f3ba-484c-990e-d46a73f523ed",
   "metadata": {},
   "outputs": [],
   "source": [
    "from sklearn.preprocessing import MinMaxScaler\n",
    "sc = MinMaxScaler()\n",
    "x_train = sc.fit_transform(x_train)\n",
    "x_test = sc.fit_transform(x_test)"
   ]
  },
  {
   "cell_type": "markdown",
   "id": "e771c9a2-1fa9-482b-ad4a-a1502f23005c",
   "metadata": {},
   "source": [
    "#### *CREATING AND FITTING THE MODEL*"
   ]
  },
  {
   "cell_type": "code",
   "execution_count": 22,
   "id": "dcf02cd2-ad42-46ed-8953-8cca75d066e2",
   "metadata": {},
   "outputs": [],
   "source": [
    "from tensorflow.keras.models import Sequential\n",
    "from tensorflow.keras.layers import Dense"
   ]
  },
  {
   "cell_type": "code",
   "execution_count": 23,
   "id": "2e80a9f0-fa20-4ad6-aae3-2fd63cc354cc",
   "metadata": {},
   "outputs": [],
   "source": [
    "model = Sequential()\n",
    "\n",
    "#model.add(Dense(units= 100, activation= 'relu'))\n",
    "model.add(Dense(units= 300, activation= 'relu'))\n",
    "model.add(Dense(units= 200, activation= 'relu'))\n",
    "model.add(Dense(units= 100, activation= 'relu'))\n",
    "model.add(Dense(units= 150, activation= 'relu'))\n",
    "model.add(Dense(units= 100, activation= 'relu'))\n",
    "model.add(Dense(units= 50, activation= 'relu'))\n",
    "\n",
    "model.add(Dense(units= 1, activation= 'linear'))"
   ]
  },
  {
   "cell_type": "code",
   "execution_count": 24,
   "id": "b9d5bb73-a657-46bb-b356-6f252d2c8890",
   "metadata": {},
   "outputs": [],
   "source": [
    "model.compile(optimizer= 'adam', loss= 'mean_squared_error')"
   ]
  },
  {
   "cell_type": "code",
   "execution_count": 25,
   "id": "cd14a227-0d14-4bc1-8e80-728ca1641b22",
   "metadata": {},
   "outputs": [
    {
     "name": "stdout",
     "output_type": "stream",
     "text": [
      "Epoch 1/30\n",
      "\u001b[1m561/561\u001b[0m \u001b[32m━━━━━━━━━━━━━━━━━━━━\u001b[0m\u001b[37m\u001b[0m \u001b[1m20s\u001b[0m 29ms/step - loss: 5.4216\n",
      "Epoch 2/30\n",
      "\u001b[1m561/561\u001b[0m \u001b[32m━━━━━━━━━━━━━━━━━━━━\u001b[0m\u001b[37m\u001b[0m \u001b[1m15s\u001b[0m 26ms/step - loss: 0.9045\n",
      "Epoch 3/30\n",
      "\u001b[1m561/561\u001b[0m \u001b[32m━━━━━━━━━━━━━━━━━━━━\u001b[0m\u001b[37m\u001b[0m \u001b[1m15s\u001b[0m 28ms/step - loss: 0.4279\n",
      "Epoch 4/30\n",
      "\u001b[1m561/561\u001b[0m \u001b[32m━━━━━━━━━━━━━━━━━━━━\u001b[0m\u001b[37m\u001b[0m \u001b[1m16s\u001b[0m 28ms/step - loss: 0.2562\n",
      "Epoch 5/30\n",
      "\u001b[1m561/561\u001b[0m \u001b[32m━━━━━━━━━━━━━━━━━━━━\u001b[0m\u001b[37m\u001b[0m \u001b[1m16s\u001b[0m 28ms/step - loss: 0.1905\n",
      "Epoch 6/30\n",
      "\u001b[1m561/561\u001b[0m \u001b[32m━━━━━━━━━━━━━━━━━━━━\u001b[0m\u001b[37m\u001b[0m \u001b[1m16s\u001b[0m 28ms/step - loss: 0.1544\n",
      "Epoch 7/30\n",
      "\u001b[1m561/561\u001b[0m \u001b[32m━━━━━━━━━━━━━━━━━━━━\u001b[0m\u001b[37m\u001b[0m \u001b[1m16s\u001b[0m 28ms/step - loss: 0.1329\n",
      "Epoch 8/30\n",
      "\u001b[1m561/561\u001b[0m \u001b[32m━━━━━━━━━━━━━━━━━━━━\u001b[0m\u001b[37m\u001b[0m \u001b[1m14s\u001b[0m 25ms/step - loss: 0.1186\n",
      "Epoch 9/30\n",
      "\u001b[1m561/561\u001b[0m \u001b[32m━━━━━━━━━━━━━━━━━━━━\u001b[0m\u001b[37m\u001b[0m \u001b[1m16s\u001b[0m 29ms/step - loss: 0.1112\n",
      "Epoch 10/30\n",
      "\u001b[1m561/561\u001b[0m \u001b[32m━━━━━━━━━━━━━━━━━━━━\u001b[0m\u001b[37m\u001b[0m \u001b[1m17s\u001b[0m 30ms/step - loss: 0.0976\n",
      "Epoch 11/30\n",
      "\u001b[1m561/561\u001b[0m \u001b[32m━━━━━━━━━━━━━━━━━━━━\u001b[0m\u001b[37m\u001b[0m \u001b[1m16s\u001b[0m 28ms/step - loss: 0.0927\n",
      "Epoch 12/30\n",
      "\u001b[1m561/561\u001b[0m \u001b[32m━━━━━━━━━━━━━━━━━━━━\u001b[0m\u001b[37m\u001b[0m \u001b[1m15s\u001b[0m 27ms/step - loss: 0.0907\n",
      "Epoch 13/30\n",
      "\u001b[1m561/561\u001b[0m \u001b[32m━━━━━━━━━━━━━━━━━━━━\u001b[0m\u001b[37m\u001b[0m \u001b[1m16s\u001b[0m 29ms/step - loss: 0.0749\n",
      "Epoch 14/30\n",
      "\u001b[1m561/561\u001b[0m \u001b[32m━━━━━━━━━━━━━━━━━━━━\u001b[0m\u001b[37m\u001b[0m \u001b[1m17s\u001b[0m 30ms/step - loss: 0.0724\n",
      "Epoch 15/30\n",
      "\u001b[1m561/561\u001b[0m \u001b[32m━━━━━━━━━━━━━━━━━━━━\u001b[0m\u001b[37m\u001b[0m \u001b[1m16s\u001b[0m 29ms/step - loss: 0.0702\n",
      "Epoch 16/30\n",
      "\u001b[1m561/561\u001b[0m \u001b[32m━━━━━━━━━━━━━━━━━━━━\u001b[0m\u001b[37m\u001b[0m \u001b[1m16s\u001b[0m 29ms/step - loss: 0.0562\n",
      "Epoch 17/30\n",
      "\u001b[1m561/561\u001b[0m \u001b[32m━━━━━━━━━━━━━━━━━━━━\u001b[0m\u001b[37m\u001b[0m \u001b[1m16s\u001b[0m 29ms/step - loss: 0.0589\n",
      "Epoch 18/30\n",
      "\u001b[1m561/561\u001b[0m \u001b[32m━━━━━━━━━━━━━━━━━━━━\u001b[0m\u001b[37m\u001b[0m \u001b[1m16s\u001b[0m 29ms/step - loss: 0.0491\n",
      "Epoch 19/30\n",
      "\u001b[1m561/561\u001b[0m \u001b[32m━━━━━━━━━━━━━━━━━━━━\u001b[0m\u001b[37m\u001b[0m \u001b[1m16s\u001b[0m 28ms/step - loss: 0.0528\n",
      "Epoch 20/30\n",
      "\u001b[1m561/561\u001b[0m \u001b[32m━━━━━━━━━━━━━━━━━━━━\u001b[0m\u001b[37m\u001b[0m \u001b[1m16s\u001b[0m 28ms/step - loss: 0.0466\n",
      "Epoch 21/30\n",
      "\u001b[1m561/561\u001b[0m \u001b[32m━━━━━━━━━━━━━━━━━━━━\u001b[0m\u001b[37m\u001b[0m \u001b[1m16s\u001b[0m 29ms/step - loss: 0.0425\n",
      "Epoch 22/30\n",
      "\u001b[1m561/561\u001b[0m \u001b[32m━━━━━━━━━━━━━━━━━━━━\u001b[0m\u001b[37m\u001b[0m \u001b[1m16s\u001b[0m 29ms/step - loss: 0.0428\n",
      "Epoch 23/30\n",
      "\u001b[1m561/561\u001b[0m \u001b[32m━━━━━━━━━━━━━━━━━━━━\u001b[0m\u001b[37m\u001b[0m \u001b[1m16s\u001b[0m 29ms/step - loss: 0.0396\n",
      "Epoch 24/30\n",
      "\u001b[1m561/561\u001b[0m \u001b[32m━━━━━━━━━━━━━━━━━━━━\u001b[0m\u001b[37m\u001b[0m \u001b[1m16s\u001b[0m 29ms/step - loss: 0.0408\n",
      "Epoch 25/30\n",
      "\u001b[1m561/561\u001b[0m \u001b[32m━━━━━━━━━━━━━━━━━━━━\u001b[0m\u001b[37m\u001b[0m \u001b[1m16s\u001b[0m 29ms/step - loss: 0.0359\n",
      "Epoch 26/30\n",
      "\u001b[1m561/561\u001b[0m \u001b[32m━━━━━━━━━━━━━━━━━━━━\u001b[0m\u001b[37m\u001b[0m \u001b[1m16s\u001b[0m 29ms/step - loss: 0.0320\n",
      "Epoch 27/30\n",
      "\u001b[1m561/561\u001b[0m \u001b[32m━━━━━━━━━━━━━━━━━━━━\u001b[0m\u001b[37m\u001b[0m \u001b[1m16s\u001b[0m 29ms/step - loss: 0.0291\n",
      "Epoch 28/30\n",
      "\u001b[1m561/561\u001b[0m \u001b[32m━━━━━━━━━━━━━━━━━━━━\u001b[0m\u001b[37m\u001b[0m \u001b[1m16s\u001b[0m 29ms/step - loss: 0.0275\n",
      "Epoch 29/30\n",
      "\u001b[1m561/561\u001b[0m \u001b[32m━━━━━━━━━━━━━━━━━━━━\u001b[0m\u001b[37m\u001b[0m \u001b[1m17s\u001b[0m 29ms/step - loss: 0.0262\n",
      "Epoch 30/30\n",
      "\u001b[1m561/561\u001b[0m \u001b[32m━━━━━━━━━━━━━━━━━━━━\u001b[0m\u001b[37m\u001b[0m \u001b[1m17s\u001b[0m 29ms/step - loss: 0.0342\n"
     ]
    },
    {
     "data": {
      "text/plain": [
       "<keras.src.callbacks.history.History at 0x1c1bb3e30e0>"
      ]
     },
     "execution_count": 25,
     "metadata": {},
     "output_type": "execute_result"
    }
   ],
   "source": [
    "model.fit(x_train, y_train, batch_size = 10, epochs= 30)"
   ]
  },
  {
   "cell_type": "code",
   "execution_count": 26,
   "id": "6e83f4d0-d247-4bd0-8643-d5e8764c33b4",
   "metadata": {},
   "outputs": [
    {
     "data": {
      "text/plain": [
       "<function matplotlib.pyplot.show(close=None, block=None)>"
      ]
     },
     "execution_count": 26,
     "metadata": {},
     "output_type": "execute_result"
    },
    {
     "data": {
      "image/png": "[encoded data removed]",
      "text/plain": [
       "<Figure size 640x480 with 1 Axes>"
      ]
     },
     "metadata": {},
     "output_type": "display_data"
    }
   ],
   "source": [
    "loss_data = pd.DataFrame(model.history.history,)\n",
    "plt.plot(loss_data, c= 'red')\n",
    "plt.title(\"How the loss changes over epochs\")\n",
    "plt.show"
   ]
  },
  {
   "cell_type": "markdown",
   "id": "e96e2f63-5ead-466d-887c-8fea2a007bdc",
   "metadata": {},
   "source": [
    "#### *COMPARING ORIGINAL RATING & PREDICTED RATING*"
   ]
  },
  {
   "cell_type": "code",
   "execution_count": 27,
   "id": "1be4e6e1-2ba1-41c9-b926-30e721d0bffb",
   "metadata": {},
   "outputs": [
    {
     "name": "stdout",
     "output_type": "stream",
     "text": [
      "\u001b[1m2/2\u001b[0m \u001b[32m━━━━━━━━━━━━━━━━━━━━\u001b[0m\u001b[37m\u001b[0m \u001b[1m0s\u001b[0m 94ms/step\n"
     ]
    }
   ],
   "source": [
    "y_pred = model.predict(x_test)\n",
    "y_pred = pd.DataFrame(y_pred.reshape(len(y_test),1))\n",
    "y_test = pd.DataFrame(y_test.reshape(len(y_test),1))\n",
    "df = pd.concat((y_test, y_pred),axis=1)\n",
    "df.columns = ['true value','predicted value']"
   ]
  },
  {
   "cell_type": "code",
   "execution_count": 28,
   "id": "8f17e162-9a04-413f-8658-25c2cd9b3d37",
   "metadata": {},
   "outputs": [
    {
     "data": {
      "text/html": [
       "<div>\n",
       "<style scoped>\n",
       "    .dataframe tbody tr th:only-of-type {\n",
       "        vertical-align: middle;\n",
       "    }\n",
       "\n",
       "    .dataframe tbody tr th {\n",
       "        vertical-align: top;\n",
       "    }\n",
       "\n",
       "    .dataframe thead th {\n",
       "        text-align: right;\n",
       "    }\n",
       "</style>\n",
       "<table border=\"1\" class=\"dataframe\">\n",
       "  <thead>\n",
       "    <tr style=\"text-align: right;\">\n",
       "      <th></th>\n",
       "      <th>true value</th>\n",
       "      <th>predicted value</th>\n",
       "    </tr>\n",
       "  </thead>\n",
       "  <tbody>\n",
       "    <tr>\n",
       "      <th>0</th>\n",
       "      <td>6.6</td>\n",
       "      <td>6.223451</td>\n",
       "    </tr>\n",
       "    <tr>\n",
       "      <th>1</th>\n",
       "      <td>5.9</td>\n",
       "      <td>6.885700</td>\n",
       "    </tr>\n",
       "    <tr>\n",
       "      <th>2</th>\n",
       "      <td>4.7</td>\n",
       "      <td>6.432720</td>\n",
       "    </tr>\n",
       "    <tr>\n",
       "      <th>3</th>\n",
       "      <td>6.2</td>\n",
       "      <td>5.791857</td>\n",
       "    </tr>\n",
       "    <tr>\n",
       "      <th>4</th>\n",
       "      <td>4.5</td>\n",
       "      <td>5.185404</td>\n",
       "    </tr>\n",
       "    <tr>\n",
       "      <th>5</th>\n",
       "      <td>6.1</td>\n",
       "      <td>10.237986</td>\n",
       "    </tr>\n",
       "    <tr>\n",
       "      <th>6</th>\n",
       "      <td>4.2</td>\n",
       "      <td>5.013769</td>\n",
       "    </tr>\n",
       "    <tr>\n",
       "      <th>7</th>\n",
       "      <td>3.6</td>\n",
       "      <td>4.092000</td>\n",
       "    </tr>\n",
       "    <tr>\n",
       "      <th>8</th>\n",
       "      <td>5.2</td>\n",
       "      <td>6.546101</td>\n",
       "    </tr>\n",
       "    <tr>\n",
       "      <th>9</th>\n",
       "      <td>5.7</td>\n",
       "      <td>5.561106</td>\n",
       "    </tr>\n",
       "    <tr>\n",
       "      <th>10</th>\n",
       "      <td>6.0</td>\n",
       "      <td>7.301274</td>\n",
       "    </tr>\n",
       "    <tr>\n",
       "      <th>11</th>\n",
       "      <td>5.0</td>\n",
       "      <td>7.285738</td>\n",
       "    </tr>\n",
       "    <tr>\n",
       "      <th>12</th>\n",
       "      <td>6.0</td>\n",
       "      <td>5.165849</td>\n",
       "    </tr>\n",
       "    <tr>\n",
       "      <th>13</th>\n",
       "      <td>7.1</td>\n",
       "      <td>7.711917</td>\n",
       "    </tr>\n",
       "    <tr>\n",
       "      <th>14</th>\n",
       "      <td>5.8</td>\n",
       "      <td>6.064786</td>\n",
       "    </tr>\n",
       "    <tr>\n",
       "      <th>15</th>\n",
       "      <td>5.2</td>\n",
       "      <td>5.287273</td>\n",
       "    </tr>\n",
       "    <tr>\n",
       "      <th>16</th>\n",
       "      <td>6.6</td>\n",
       "      <td>4.796641</td>\n",
       "    </tr>\n",
       "    <tr>\n",
       "      <th>17</th>\n",
       "      <td>5.4</td>\n",
       "      <td>6.074482</td>\n",
       "    </tr>\n",
       "    <tr>\n",
       "      <th>18</th>\n",
       "      <td>4.9</td>\n",
       "      <td>6.166141</td>\n",
       "    </tr>\n",
       "    <tr>\n",
       "      <th>19</th>\n",
       "      <td>4.1</td>\n",
       "      <td>3.745605</td>\n",
       "    </tr>\n",
       "    <tr>\n",
       "      <th>20</th>\n",
       "      <td>6.1</td>\n",
       "      <td>6.126731</td>\n",
       "    </tr>\n",
       "    <tr>\n",
       "      <th>21</th>\n",
       "      <td>4.8</td>\n",
       "      <td>6.458753</td>\n",
       "    </tr>\n",
       "    <tr>\n",
       "      <th>22</th>\n",
       "      <td>6.8</td>\n",
       "      <td>4.248149</td>\n",
       "    </tr>\n",
       "    <tr>\n",
       "      <th>23</th>\n",
       "      <td>6.1</td>\n",
       "      <td>5.017404</td>\n",
       "    </tr>\n",
       "    <tr>\n",
       "      <th>24</th>\n",
       "      <td>4.2</td>\n",
       "      <td>6.270634</td>\n",
       "    </tr>\n",
       "    <tr>\n",
       "      <th>25</th>\n",
       "      <td>4.5</td>\n",
       "      <td>5.375159</td>\n",
       "    </tr>\n",
       "    <tr>\n",
       "      <th>26</th>\n",
       "      <td>5.1</td>\n",
       "      <td>6.929904</td>\n",
       "    </tr>\n",
       "    <tr>\n",
       "      <th>27</th>\n",
       "      <td>6.6</td>\n",
       "      <td>7.348027</td>\n",
       "    </tr>\n",
       "    <tr>\n",
       "      <th>28</th>\n",
       "      <td>4.2</td>\n",
       "      <td>6.279639</td>\n",
       "    </tr>\n",
       "    <tr>\n",
       "      <th>29</th>\n",
       "      <td>5.1</td>\n",
       "      <td>4.544664</td>\n",
       "    </tr>\n",
       "    <tr>\n",
       "      <th>30</th>\n",
       "      <td>7.3</td>\n",
       "      <td>7.253113</td>\n",
       "    </tr>\n",
       "    <tr>\n",
       "      <th>31</th>\n",
       "      <td>6.6</td>\n",
       "      <td>6.783932</td>\n",
       "    </tr>\n",
       "    <tr>\n",
       "      <th>32</th>\n",
       "      <td>7.7</td>\n",
       "      <td>6.589480</td>\n",
       "    </tr>\n",
       "    <tr>\n",
       "      <th>33</th>\n",
       "      <td>5.0</td>\n",
       "      <td>5.567691</td>\n",
       "    </tr>\n",
       "    <tr>\n",
       "      <th>34</th>\n",
       "      <td>5.0</td>\n",
       "      <td>4.992099</td>\n",
       "    </tr>\n",
       "    <tr>\n",
       "      <th>35</th>\n",
       "      <td>4.5</td>\n",
       "      <td>6.699533</td>\n",
       "    </tr>\n",
       "    <tr>\n",
       "      <th>36</th>\n",
       "      <td>8.4</td>\n",
       "      <td>8.196047</td>\n",
       "    </tr>\n",
       "    <tr>\n",
       "      <th>37</th>\n",
       "      <td>4.6</td>\n",
       "      <td>6.731437</td>\n",
       "    </tr>\n",
       "    <tr>\n",
       "      <th>38</th>\n",
       "      <td>3.5</td>\n",
       "      <td>4.414257</td>\n",
       "    </tr>\n",
       "    <tr>\n",
       "      <th>39</th>\n",
       "      <td>6.3</td>\n",
       "      <td>7.215769</td>\n",
       "    </tr>\n",
       "    <tr>\n",
       "      <th>40</th>\n",
       "      <td>7.0</td>\n",
       "      <td>6.465461</td>\n",
       "    </tr>\n",
       "    <tr>\n",
       "      <th>41</th>\n",
       "      <td>4.0</td>\n",
       "      <td>4.855843</td>\n",
       "    </tr>\n",
       "    <tr>\n",
       "      <th>42</th>\n",
       "      <td>6.8</td>\n",
       "      <td>6.877532</td>\n",
       "    </tr>\n",
       "    <tr>\n",
       "      <th>43</th>\n",
       "      <td>5.4</td>\n",
       "      <td>6.434528</td>\n",
       "    </tr>\n",
       "    <tr>\n",
       "      <th>44</th>\n",
       "      <td>3.9</td>\n",
       "      <td>5.109096</td>\n",
       "    </tr>\n",
       "    <tr>\n",
       "      <th>45</th>\n",
       "      <td>6.6</td>\n",
       "      <td>7.052511</td>\n",
       "    </tr>\n",
       "    <tr>\n",
       "      <th>46</th>\n",
       "      <td>5.3</td>\n",
       "      <td>4.498361</td>\n",
       "    </tr>\n",
       "    <tr>\n",
       "      <th>47</th>\n",
       "      <td>5.4</td>\n",
       "      <td>6.297468</td>\n",
       "    </tr>\n",
       "    <tr>\n",
       "      <th>48</th>\n",
       "      <td>4.8</td>\n",
       "      <td>5.462326</td>\n",
       "    </tr>\n",
       "    <tr>\n",
       "      <th>49</th>\n",
       "      <td>6.0</td>\n",
       "      <td>6.596965</td>\n",
       "    </tr>\n",
       "    <tr>\n",
       "      <th>50</th>\n",
       "      <td>7.5</td>\n",
       "      <td>5.869817</td>\n",
       "    </tr>\n",
       "    <tr>\n",
       "      <th>51</th>\n",
       "      <td>6.8</td>\n",
       "      <td>6.297355</td>\n",
       "    </tr>\n",
       "    <tr>\n",
       "      <th>52</th>\n",
       "      <td>7.2</td>\n",
       "      <td>7.928780</td>\n",
       "    </tr>\n",
       "    <tr>\n",
       "      <th>53</th>\n",
       "      <td>4.2</td>\n",
       "      <td>7.620062</td>\n",
       "    </tr>\n",
       "    <tr>\n",
       "      <th>54</th>\n",
       "      <td>5.4</td>\n",
       "      <td>5.203694</td>\n",
       "    </tr>\n",
       "    <tr>\n",
       "      <th>55</th>\n",
       "      <td>7.6</td>\n",
       "      <td>7.136589</td>\n",
       "    </tr>\n",
       "    <tr>\n",
       "      <th>56</th>\n",
       "      <td>5.2</td>\n",
       "      <td>4.175240</td>\n",
       "    </tr>\n",
       "  </tbody>\n",
       "</table>\n",
       "</div>"
      ],
      "text/plain": [
       "    true value  predicted value\n",
       "0          6.6         6.223451\n",
       "1          5.9         6.885700\n",
       "2          4.7         6.432720\n",
       "3          6.2         5.791857\n",
       "4          4.5         5.185404\n",
       "5          6.1        10.237986\n",
       "6          4.2         5.013769\n",
       "7          3.6         4.092000\n",
       "8          5.2         6.546101\n",
       "9          5.7         5.561106\n",
       "10         6.0         7.301274\n",
       "11         5.0         7.285738\n",
       "12         6.0         5.165849\n",
       "13         7.1         7.711917\n",
       "14         5.8         6.064786\n",
       "15         5.2         5.287273\n",
       "16         6.6         4.796641\n",
       "17         5.4         6.074482\n",
       "18         4.9         6.166141\n",
       "19         4.1         3.745605\n",
       "20         6.1         6.126731\n",
       "21         4.8         6.458753\n",
       "22         6.8         4.248149\n",
       "23         6.1         5.017404\n",
       "24         4.2         6.270634\n",
       "25         4.5         5.375159\n",
       "26         5.1         6.929904\n",
       "27         6.6         7.348027\n",
       "28         4.2         6.279639\n",
       "29         5.1         4.544664\n",
       "30         7.3         7.253113\n",
       "31         6.6         6.783932\n",
       "32         7.7         6.589480\n",
       "33         5.0         5.567691\n",
       "34         5.0         4.992099\n",
       "35         4.5         6.699533\n",
       "36         8.4         8.196047\n",
       "37         4.6         6.731437\n",
       "38         3.5         4.414257\n",
       "39         6.3         7.215769\n",
       "40         7.0         6.465461\n",
       "41         4.0         4.855843\n",
       "42         6.8         6.877532\n",
       "43         5.4         6.434528\n",
       "44         3.9         5.109096\n",
       "45         6.6         7.052511\n",
       "46         5.3         4.498361\n",
       "47         5.4         6.297468\n",
       "48         4.8         5.462326\n",
       "49         6.0         6.596965\n",
       "50         7.5         5.869817\n",
       "51         6.8         6.297355\n",
       "52         7.2         7.928780\n",
       "53         4.2         7.620062\n",
       "54         5.4         5.203694\n",
       "55         7.6         7.136589\n",
       "56         5.2         4.175240"
      ]
     },
     "execution_count": 28,
     "metadata": {},
     "output_type": "execute_result"
    }
   ],
   "source": [
    "df"
   ]
  },
  {
   "cell_type": "code",
   "execution_count": 29,
   "id": "98a11f0e-059f-41a2-9e32-0c4053faa7dd",
   "metadata": {},
   "outputs": [
    {
     "data": {
      "image/png": "[encoded data removed]",
      "text/plain": [
       "<Figure size 640x480 with 1 Axes>"
      ]
     },
     "metadata": {},
     "output_type": "display_data"
    }
   ],
   "source": [
    "plt.scatter(y_test, y_pred)\n",
    "plt.title(\"Scatter plot of actual & predicted values\")\n",
    "plt.show()"
   ]
  },
  {
   "cell_type": "code",
   "execution_count": 30,
   "id": "4475918a-3b63-48b9-94e2-a26170e8221f",
   "metadata": {},
   "outputs": [
    {
     "data": {
      "text/plain": [
       "Text(0.5, 1.0, 'True vs Predicted ratings for different movies')"
      ]
     },
     "execution_count": 30,
     "metadata": {},
     "output_type": "execute_result"
    },
    {
     "data": {
      "image/png": "[encoded data removed]",
      "text/plain": [
       "<Figure size 640x480 with 1 Axes>"
      ]
     },
     "metadata": {},
     "output_type": "display_data"
    }
   ],
   "source": [
    "plt.xlabel('customers')\n",
    "plt.ylabel('purchase amount')\n",
    "plt.plot(y_test, linewidth= 2) #blue lines\n",
    "plt.plot(y_pred,linewidth= 2) #orange lines\n",
    "plt.title('True vs Predicted ratings for different movies')"
   ]
  },
  {
   "cell_type": "markdown",
   "id": "12406c98-305c-4e73-9acd-f401c5d57c17",
   "metadata": {},
   "source": [
    "#### *CHECKING THE ACCURACY AND PERFORMANCE OF THE MODEL*"
   ]
  },
  {
   "cell_type": "code",
   "execution_count": 31,
   "id": "c70acc17-c3f5-413c-bd2c-d228dc3b4005",
   "metadata": {},
   "outputs": [
    {
     "name": "stdout",
     "output_type": "stream",
     "text": [
      "Mean Absolute Error:      1.008\n",
      "mean absolute percentage error:  0.19\n",
      "Root Mean Squared Error:  1.306\n"
     ]
    }
   ],
   "source": [
    "from sklearn.metrics import mean_absolute_error, mean_squared_error, mean_absolute_percentage_error\n",
    "\n",
    "mae = mean_absolute_error(y_test, y_pred)\n",
    "mse = mean_squared_error(y_test, y_pred)\n",
    "rmse = np.sqrt(mean_squared_error(y_test, y_pred))\n",
    "\n",
    "print(\"Mean Absolute Error:\".ljust(25),round(mean_absolute_error(y_test, y_pred),3))\n",
    "print(\"mean absolute percentage error:\".ljust(32),round(mean_absolute_percentage_error(y_test, y_pred),2))\n",
    "print(\"Root Mean Squared Error:\".ljust(25), np.round(np.sqrt(mean_squared_error(y_test, y_pred)),3))"
   ]
  },
  {
   "cell_type": "code",
   "execution_count": 32,
   "id": "7672d519-3bb2-4851-a150-8f870edeed52",
   "metadata": {},
   "outputs": [
    {
     "data": {
      "text/plain": [
       "count    5659.000000\n",
       "mean        5.898533\n",
       "std         1.381165\n",
       "min         1.100000\n",
       "25%         5.000000\n",
       "50%         6.100000\n",
       "75%         6.900000\n",
       "max        10.000000\n",
       "Name: Rating, dtype: float64"
      ]
     },
     "execution_count": 32,
     "metadata": {},
     "output_type": "execute_result"
    }
   ],
   "source": [
    "dataset['Rating'].describe()"
   ]
  }
 ],
 "metadata": {
  "kernelspec": {
   "display_name": "Python 3 (ipykernel)",
   "language": "python",
   "name": "python3"
  },
  "language_info": {
   "codemirror_mode": {
    "name": "ipython",
    "version": 3
   },
   "file_extension": ".py",
   "mimetype": "text/x-python",
   "name": "python",
   "nbconvert_exporter": "python",
   "pygments_lexer": "ipython3",
   "version": "3.12.0"
  }
 },
 "nbformat": 4,
 "nbformat_minor": 5
}
